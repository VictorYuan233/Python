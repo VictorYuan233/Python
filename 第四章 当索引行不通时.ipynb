{
 "nbformat": 4,
 "nbformat_minor": 2,
 "metadata": {
  "language_info": {
   "name": "python",
   "codemirror_mode": {
    "name": "ipython",
    "version": 3
   }
  },
  "orig_nbformat": 2,
  "file_extension": ".py",
  "mimetype": "text/x-python",
  "name": "python",
  "npconvert_exporter": "python",
  "pygments_lexer": "ipython3",
  "version": 3
 },
 "cells": [
  {
   "cell_type": "markdown",
   "execution_count": null,
   "metadata": {},
   "outputs": [],
   "source": [
    "# 字典\n",
    "本章介绍一种可以通过名称来访问各个值的数据结构，这种结构称为**映射**，字典是Python中唯一的内置映射类型，其中的值不按顺序排列，而是存储在键下。键可能是*数、字符串或元组*"
   ]
  },
  {
   "cell_type": "markdown",
   "execution_count": null,
   "metadata": {},
   "outputs": [],
   "source": [
    "## 4.2 创建和使用字典\n",
    "字典由**键**和**值**组成，这种键-值对成为**项**，每对键值之间用（：）分隔，项之间用逗号分隔，整个字典放在花括号内、\n",
    "* 在字典中，键必须是独一无二的\n",
    "* 字典中的键可以是任何不可变的类型，比如说数，字符串或元组\n",
    "* 字典中原本没有的键可以直接给他赋值，自动创建新的键-值对"
   ]
  },
  {
   "cell_type": "code",
   "execution_count": 3,
   "metadata": {},
   "outputs": [],
   "source": [
    "phonebook = {'Alice': '2341', 'Beth': '9102', 'Cecil': '3528'}"
   ]
  },
  {
   "cell_type": "markdown",
   "execution_count": null,
   "metadata": {},
   "outputs": [],
   "source": [
    "可以用函数dict从其他映射（比如其他字典）或键-值对序列创建字典"
   ]
  },
  {
   "cell_type": "code",
   "execution_count": 6,
   "metadata": {},
   "outputs": [
    {
     "data": {
      "text/plain": "{'age': 42, 'name': 'Gumby'}"
     },
     "execution_count": 6,
     "metadata": {},
     "output_type": "execute_result"
    }
   ],
   "source": [
    "items = {('name','Gumby'), ('age', 42)}\n",
    "d = dict(items)\n",
    "d"
   ]
  },
  {
   "cell_type": "code",
   "execution_count": 7,
   "metadata": {},
   "outputs": [
    {
     "data": {
      "text/plain": "'Gumby'"
     },
     "execution_count": 7,
     "metadata": {},
     "output_type": "execute_result"
    }
   ],
   "source": [
    "d['name']"
   ]
  },
  {
   "cell_type": "markdown",
   "execution_count": 8,
   "metadata": {},
   "outputs": [
    {
     "ename": "NameError",
     "evalue": "name '还可以使用' is not defined",
     "output_type": "error",
     "traceback": [
      "\u001b[1;31m---------------------------------------------------------------------------\u001b[0m",
      "\u001b[1;31mNameError\u001b[0m                                 Traceback (most recent call last)",
      "\u001b[1;32m<ipython-input-8-1e6c7d1f15cf>\u001b[0m in \u001b[0;36m<module>\u001b[1;34m\u001b[0m\n\u001b[1;32m----> 1\u001b[1;33m \u001b[0m还可以使用\u001b[0m\u001b[1;33m**\u001b[0m\u001b[0m关键字实参\u001b[0m\u001b[1;33m**\u001b[0m\u001b[0m来调用这个函数\u001b[0m\u001b[1;33m\u001b[0m\u001b[1;33m\u001b[0m\u001b[0m\n\u001b[0m",
      "\u001b[1;31mNameError\u001b[0m: name '还可以使用' is not defined"
     ]
    }
   ],
   "source": [
    "还可以使用**关键字实参**来调用这个函数"
   ]
  },
  {
   "cell_type": "code",
   "execution_count": 10,
   "metadata": {},
   "outputs": [
    {
     "data": {
      "text/plain": "{'name': 'Gumby', 'age': 42}"
     },
     "execution_count": 10,
     "metadata": {},
     "output_type": "execute_result"
    }
   ],
   "source": [
    "d = dict(name='Gumby', age = 42)\n",
    "d"
   ]
  },
  {
   "cell_type": "markdown",
   "execution_count": null,
   "metadata": {},
   "outputs": [],
   "source": [
    "## 4.2.2 基本的字典操作\n",
    "字典的基本行为很多方面都类似于序列\n",
    "* len(d) 返回字典d包含的项（键-值对）数\n",
    "* d\\[k] 返回与键值k相关联的值\n",
    "* d\\[k] = v 将值v关联到k\n",
    "* del d\\[k] 删除键值为k的项\n",
    "* k in d 检查字典d是否包含键为k的项"
   ]
  },
  {
   "cell_type": "markdown",
   "execution_count": null,
   "metadata": {},
   "outputs": [],
   "source": [
    "## 4.2.3 将字符串格式设置功能用于字典\n",
    "format_map函数可以通过映射提取字典中的信息"
   ]
  },
  {
   "cell_type": "code",
   "execution_count": 12,
   "metadata": {},
   "outputs": [
    {
     "data": {
      "text/plain": "\"Cecil's phone number is 3528.\""
     },
     "execution_count": 12,
     "metadata": {},
     "output_type": "execute_result"
    }
   ],
   "source": [
    "\"Cecil's phone number is {Cecil}.\".format_map(phonebook)   #这里面字典关键值的字符串可以不加引号？？？"
   ]
  },
  {
   "cell_type": "code",
   "execution_count": 14,
   "metadata": {},
   "outputs": [
    {
     "data": {
      "text/plain": "'3528'"
     },
     "execution_count": 14,
     "metadata": {},
     "output_type": "execute_result"
    }
   ],
   "source": [
    "phonebook['Cecil']"
   ]
  },
  {
   "cell_type": "markdown",
   "execution_count": null,
   "metadata": {},
   "outputs": [],
   "source": [
    "## 4.2.4 字典方法"
   ]
  },
  {
   "cell_type": "markdown",
   "execution_count": null,
   "metadata": {},
   "outputs": [],
   "source": [
    "### clear\n",
    "就地删除所有字典项"
   ]
  },
  {
   "cell_type": "markdown",
   "execution_count": null,
   "metadata": {},
   "outputs": [],
   "source": [
    "### copy（浅复制，因为值本身是原件而非副本）\n",
    "返回一个新字典，其包含的键值对与原来的字典相同    \n",
    "替换副本中的值时，原件不受影响，但如果**修改**副本中的值，原件也将发生变化，因为原件指向的也是被修改的值\n",
    "### deepcopy（深复制，完全复制）"
   ]
  },
  {
   "cell_type": "markdown",
   "execution_count": null,
   "metadata": {},
   "outputs": [],
   "source": [
    "### fromkeys\n",
    "创建一个新字典，包含指定的键，且每个键对应的值都是None"
   ]
  },
  {
   "cell_type": "code",
   "execution_count": 8,
   "metadata": {},
   "outputs": [
    {
     "data": {
      "text/plain": "{'name': 'unknown', 'age': 'unknown'}"
     },
     "execution_count": 8,
     "metadata": {},
     "output_type": "execute_result"
    }
   ],
   "source": [
    "dict.fromkeys(['name','age'], 'unknown')"
   ]
  },
  {
   "cell_type": "markdown",
   "execution_count": 5,
   "metadata": {},
   "outputs": [
    {
     "name": "stdout",
     "output_type": "stream",
     "text": "{'name': None, 'age': None}\n"
    }
   ],
   "source": [
    "### get\n",
    "* 用get来访问不存在的键时，不会引发异常，而是返回None或者指定的值\n",
    "* 直接访问字典中没有的项会引发异常"
   ]
  },
  {
   "cell_type": "markdown",
   "execution_count": 1,
   "metadata": {},
   "outputs": [
    {
     "ename": "SyntaxError",
     "evalue": "invalid character in identifier (<ipython-input-1-5f4ed201f7ef>, line 2)",
     "output_type": "error",
     "traceback": [
      "\u001b[1;36m  File \u001b[1;32m\"<ipython-input-1-5f4ed201f7ef>\"\u001b[1;36m, line \u001b[1;32m2\u001b[0m\n\u001b[1;33m    返回一个包含所有字典项的列表，其中每个元素都为（key, value）的形式。字典项在列表中的排列顺序不确定。\u001b[0m\n\u001b[1;37m                              ^\u001b[0m\n\u001b[1;31mSyntaxError\u001b[0m\u001b[1;31m:\u001b[0m invalid character in identifier\n"
     ]
    }
   ],
   "source": [
    "### items\n",
    "返回一个包含所有字典项的列表，其中每个元素都为（key, value）的形式。字典项在列表中的排列顺序不确定。\n",
    "* 返回值术语一种名为字典视图的特殊类型，他们始终是底层字典的反应，即使修改了底层字典亦如此"
   ]
  },
  {
   "cell_type": "markdown",
   "execution_count": null,
   "metadata": {},
   "outputs": [],
   "source": [
    "### keys\n",
    "方法keys返回一个字典视图，其中包含指定字典中的键"
   ]
  },
  {
   "cell_type": "markdown",
   "execution_count": null,
   "metadata": {},
   "outputs": [],
   "source": [
    "### pop\n",
    "pop可用于获取与指定键相关联的值，并将该键-值对从字典中删除"
   ]
  },
  {
   "cell_type": "code",
   "execution_count": 4,
   "metadata": {},
   "outputs": [
    {
     "data": {
      "text/plain": "'3528'"
     },
     "execution_count": 4,
     "metadata": {},
     "output_type": "execute_result"
    }
   ],
   "source": [
    "phonebook.pop('Cecil')"
   ]
  },
  {
   "cell_type": "markdown",
   "execution_count": null,
   "metadata": {},
   "outputs": [],
   "source": [
    "### popitem\n",
    "随机弹出一个字典项"
   ]
  },
  {
   "cell_type": "code",
   "execution_count": 5,
   "metadata": {},
   "outputs": [
    {
     "data": {
      "text/plain": "('Beth', '9102')"
     },
     "execution_count": 5,
     "metadata": {},
     "output_type": "execute_result"
    }
   ],
   "source": [
    "phonebook.popitem()"
   ]
  },
  {
   "cell_type": "markdown",
   "execution_count": null,
   "metadata": {},
   "outputs": [],
   "source": [
    "### setdefault\n",
    "* 有点像get，因为它也获取与指定键相关联的值\n",
    "* 它还可以在字典不包含指定的键时，在字典中添加指定键-值对 "
   ]
  },
  {
   "cell_type": "markdown",
   "execution_count": null,
   "metadata": {},
   "outputs": [],
   "source": [
    "### update\n",
    "用一个字典中的项来更新另一个字典   \n",
    "对于参数提供的字典，将其添加到当前字典中，如果当前字典包含相同的项，就替换它"
   ]
  },
  {
   "cell_type": "markdown",
   "execution_count": null,
   "metadata": {},
   "outputs": [],
   "source": [
    "### values\n",
    "返回一个由字典中的**值**组成的字典视图。不同用于方法keys，方法values返回的视图可能包含重复的值"
   ]
  },
  {
   "cell_type": "markdown",
   "execution_count": 8,
   "metadata": {},
   "outputs": [
    {
     "data": {
      "text/plain": "{'Alice': '2341'}"
     },
     "execution_count": 8,
     "metadata": {},
     "output_type": "execute_result"
    }
   ],
   "source": [
    "# 本章完"
   ]
  },
  {
   "cell_type": "code",
   "execution_count": null,
   "metadata": {},
   "outputs": [],
   "source": []
  }
 ]
}