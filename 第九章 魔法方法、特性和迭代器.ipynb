{
 "nbformat": 4,
 "nbformat_minor": 2,
 "metadata": {
  "language_info": {
   "name": "python",
   "codemirror_mode": {
    "name": "ipython",
    "version": 3
   }
  },
  "orig_nbformat": 2,
  "file_extension": ".py",
  "mimetype": "text/x-python",
  "name": "python",
  "npconvert_exporter": "python",
  "pygments_lexer": "ipython3",
  "version": 3
 },
 "cells": [
  {
   "cell_type": "markdown",
   "execution_count": null,
   "metadata": {},
   "outputs": [],
   "source": [
    "# 第九章 魔法方法、特性和迭代器"
   ]
  },
  {
   "cell_type": "markdown",
   "execution_count": null,
   "metadata": {},
   "outputs": [],
   "source": [
    "## 构造函数\n",
    "* 对象将在创建后自动调用他们\n",
    "* 命名方法：\\__init__"
   ]
  },
  {
   "cell_type": "markdown",
   "execution_count": null,
   "metadata": {},
   "outputs": [],
   "source": [
    "## 析构函数\n",
    "* 在对象被销毁（垃圾收集）前调用\n",
    "* 命名方法\\__del__"
   ]
  },
  {
   "cell_type": "markdown",
   "execution_count": null,
   "metadata": {},
   "outputs": [],
   "source": [
    "## 继承超类的构造函数\n",
    "使用函数super（）"
   ]
  },
  {
   "cell_type": "code",
   "execution_count": 3,
   "metadata": {},
   "outputs": [],
   "source": [
    "class Bird:\n",
    "    def __init__(self):\n",
    "        self.hungry = True\n",
    "    def eat(self):\n",
    "        if self.hungry:\n",
    "            print('Aaaaaaaaaaaaah')\n",
    "        else:\n",
    "            print('No Thanks')\n",
    "\n",
    "class SongBird(Bird):\n",
    "    def __init__(self):\n",
    "        super().__init__()\n",
    "        self.sound = 'Squawk!'\n",
    "    def sing(self):\n",
    "        print(self.sound)\n"
   ]
  },
  {
   "cell_type": "code",
   "execution_count": 4,
   "metadata": {},
   "outputs": [
    {
     "name": "stdout",
     "output_type": "stream",
     "text": "Squawk!\n"
    }
   ],
   "source": [
    "sb = SongBird()\n",
    "sb.sing()"
   ]
  },
  {
   "cell_type": "code",
   "execution_count": 5,
   "metadata": {},
   "outputs": [
    {
     "name": "stdout",
     "output_type": "stream",
     "text": "Aaaaaaaaaaaaah\n"
    }
   ],
   "source": [
    "sb.eat()"
   ]
  },
  {
   "cell_type": "markdown",
   "execution_count": null,
   "metadata": {},
   "outputs": [],
   "source": [
    "## 元素访问"
   ]
  },
  {
   "cell_type": "markdown",
   "execution_count": null,
   "metadata": {},
   "outputs": [],
   "source": [
    "### 基本的序列和映射协议\n",
    "序列和映射基本上时元素（item）的集合，要实现他们的行为（协议），不可变对象需要实现两个方法，而可变对象需要实现4个\n",
    "* \\__len__(self):返回集合包含的项数\n",
    "* \\__getitem__(self, key) : 返回指定键相关联的值\n",
    "* \\__setitem__(self, key, value ):以键值对的方式储存值，仅当对象可变的时候才需要实现\n",
    "* \\__delitem__(self, key): 删除与key相关联的值，仅当对象可变的时候才需要实现"
   ]
  },
  {
   "cell_type": "markdown",
   "execution_count": null,
   "metadata": {},
   "outputs": [],
   "source": [
    "* 对于序列，如果键为负数，应该从末尾往前数， x\\[-n] = x\\[len(x) - n]\n",
    "* 如果键的类型不合适，可能引发TypeError异常\n",
    "* 索引不在正确的范围内的话应引发IndexError异常"
   ]
  },
  {
   "cell_type": "code",
   "execution_count": 24,
   "metadata": {},
   "outputs": [],
   "source": [
    "class ArithmeticSequence:\n",
    "    '创建一个无穷序列'\n",
    "    def __init__(self, start = 0, step = 1):\n",
    "        '初始化序列，开端，步长和改变的值'\n",
    "        self.start = start\n",
    "        self.step = step\n",
    "        self.changed = {}\n",
    "\n",
    "    def check_index(self, key):\n",
    "        '合法性检查，如果输入的值不是int类型且大于0的话就会报错'\n",
    "        if not isinstance(key, int): raise TypeError\n",
    "        if key < 0: raise IndexError\n",
    "\n",
    "    def __getitem__(self, key):\n",
    "        '返回对应的值'\n",
    "        self.check_index(key)   # 合法性检查\n",
    "        try:\n",
    "            return self.changed[key]  # 如果修改过的话就返回修改后的值，没有修改过的话则报错，引发KeyError异常\n",
    "        except KeyError:                # 没有修改过的话按照等差数列计算结果\n",
    "            return self.start + key * self.step\n",
    "\n",
    "    def __setitem__(self, key, value): \n",
    "        '修改对应的数值'\n",
    "        self.check_index(key)\n",
    "        self.changed[key] = value\n"
   ]
  },
  {
   "cell_type": "code",
   "execution_count": 25,
   "metadata": {},
   "outputs": [
    {
     "data": {
      "text/plain": "9"
     },
     "execution_count": 25,
     "metadata": {},
     "output_type": "execute_result"
    }
   ],
   "source": [
    "s = ArithmeticSequence(1, 2)\n",
    "s[4]"
   ]
  },
  {
   "cell_type": "code",
   "execution_count": 26,
   "metadata": {},
   "outputs": [],
   "source": [
    "s[4] = 2"
   ]
  },
  {
   "cell_type": "code",
   "execution_count": 27,
   "metadata": {},
   "outputs": [
    {
     "data": {
      "text/plain": "2"
     },
     "execution_count": 27,
     "metadata": {},
     "output_type": "execute_result"
    }
   ],
   "source": [
    "s[4]"
   ]
  },
  {
   "cell_type": "code",
   "execution_count": 28,
   "metadata": {},
   "outputs": [
    {
     "data": {
      "text/plain": "11"
     },
     "execution_count": 28,
     "metadata": {},
     "output_type": "execute_result"
    }
   ],
   "source": [
    "s[5]"
   ]
  },
  {
   "cell_type": "markdown",
   "execution_count": null,
   "metadata": {},
   "outputs": [],
   "source": [
    "### 从list，dict和str派生\n",
    "如果只想定制某种操作行为，就没必要重新实现所有方法，只需要从现有的类中继承"
   ]
  },
  {
   "cell_type": "code",
   "execution_count": 59,
   "metadata": {},
   "outputs": [],
   "source": [
    "class CounterList(list):\n",
    "    def __init__(self, *args):\n",
    "        super().__init__(*args)\n",
    "        self.counter = 0\n",
    "    def __getitem__(self, index):\n",
    "        self.counter += 1\n",
    "        return super().__getitem__(index)"
   ]
  },
  {
   "cell_type": "code",
   "execution_count": 60,
   "metadata": {},
   "outputs": [
    {
     "data": {
      "text/plain": "[0, 1, 2, 3, 4, 5, 6, 7, 8, 9]"
     },
     "execution_count": 60,
     "metadata": {},
     "output_type": "execute_result"
    }
   ],
   "source": [
    "cl = CounterList(range(10))\n",
    "cl"
   ]
  },
  {
   "cell_type": "code",
   "execution_count": 61,
   "metadata": {},
   "outputs": [
    {
     "data": {
      "text/plain": "0"
     },
     "execution_count": 61,
     "metadata": {},
     "output_type": "execute_result"
    }
   ],
   "source": [
    "cl.counter"
   ]
  },
  {
   "cell_type": "code",
   "execution_count": 62,
   "metadata": {},
   "outputs": [
    {
     "data": {
      "text/plain": "4"
     },
     "execution_count": 62,
     "metadata": {},
     "output_type": "execute_result"
    }
   ],
   "source": [
    "cl[4]"
   ]
  },
  {
   "cell_type": "code",
   "execution_count": 63,
   "metadata": {},
   "outputs": [
    {
     "data": {
      "text/plain": "1"
     },
     "execution_count": 63,
     "metadata": {},
     "output_type": "execute_result"
    }
   ],
   "source": [
    "cl.counter"
   ]
  },
  {
   "cell_type": "code",
   "execution_count": 64,
   "metadata": {},
   "outputs": [
    {
     "data": {
      "text/plain": "13"
     },
     "execution_count": 64,
     "metadata": {},
     "output_type": "execute_result"
    }
   ],
   "source": [
    "cl[4] + cl[9]"
   ]
  },
  {
   "cell_type": "code",
   "execution_count": 65,
   "metadata": {},
   "outputs": [
    {
     "data": {
      "text/plain": "3"
     },
     "execution_count": 65,
     "metadata": {},
     "output_type": "execute_result"
    }
   ],
   "source": [
    "cl.counter"
   ]
  },
  {
   "cell_type": "markdown",
   "execution_count": null,
   "metadata": {},
   "outputs": [],
   "source": [
    "## 特性"
   ]
  },
  {
   "cell_type": "markdown",
   "execution_count": null,
   "metadata": {},
   "outputs": [],
   "source": [
    "通过存取方法定义的属性称为**特性**   \n",
    "函数property将存取方法作为参数，获取方法在前设置方法在后"
   ]
  },
  {
   "cell_type": "code",
   "execution_count": 67,
   "metadata": {},
   "outputs": [],
   "source": [
    "class Rectangle:\n",
    "    def __init__(self):\n",
    "        self.width = 0\n",
    "        self.height = 0\n",
    "    def set_size(self, size):\n",
    "        self.width, self.height = size\n",
    "    def get_size(self):\n",
    "        return self.width, self.height\n",
    "    size = property(get_size, set_size)"
   ]
  },
  {
   "cell_type": "code",
   "execution_count": 68,
   "metadata": {},
   "outputs": [
    {
     "data": {
      "text/plain": "(5, 10)"
     },
     "execution_count": 68,
     "metadata": {},
     "output_type": "execute_result"
    }
   ],
   "source": [
    "r = Rectangle()\n",
    "r.width = 5\n",
    "r.height = 10\n",
    "r.size"
   ]
  },
  {
   "cell_type": "code",
   "execution_count": 69,
   "metadata": {},
   "outputs": [
    {
     "data": {
      "text/plain": "150"
     },
     "execution_count": 69,
     "metadata": {},
     "output_type": "execute_result"
    }
   ],
   "source": [
    "r.size = 150, 100\n",
    "r.width"
   ]
  },
  {
   "cell_type": "markdown",
   "execution_count": null,
   "metadata": {},
   "outputs": [],
   "source": [
    "## 迭代器\n",
    "方法\\__iter\\__返回一个迭代器，他是包含方法\\__next\\__的对象，调用这个方法时刻不提供任何参数，而调用方法\\__next__时，返回下一个值"
   ]
  },
  {
   "cell_type": "code",
   "execution_count": 70,
   "metadata": {},
   "outputs": [],
   "source": [
    "class fibs:\n",
    "    'fibnacci 数列'\n",
    "    def __init__(self):\n",
    "        self.a = 0\n",
    "        self.b = 1\n",
    "    \n",
    "    def __next__(self):\n",
    "        self.a, self.b = self.b, self.a + self.b\n",
    "        return self.a\n",
    "    \n",
    "    def __iter__(self):\n",
    "        return self"
   ]
  },
  {
   "cell_type": "code",
   "execution_count": 72,
   "metadata": {},
   "outputs": [
    {
     "name": "stdout",
     "output_type": "stream",
     "text": "1597\n"
    }
   ],
   "source": [
    "fib = fibs()\n",
    "for f in fib:\n",
    "    if f > 1000:\n",
    "        print(f)\n",
    "        break"
   ]
  },
  {
   "cell_type": "markdown",
   "execution_count": null,
   "metadata": {},
   "outputs": [],
   "source": [
    "通过可迭代对象调用内置函数iter可获得一个迭代器"
   ]
  },
  {
   "cell_type": "code",
   "execution_count": 75,
   "metadata": {},
   "outputs": [
    {
     "name": "stdout",
     "output_type": "stream",
     "text": "1\n2\n4\n"
    },
    {
     "data": {
      "text/plain": "1"
     },
     "execution_count": 75,
     "metadata": {},
     "output_type": "execute_result"
    }
   ],
   "source": [
    "it = iter([1, 2, 4])\n",
    "for i in it:\n",
    "    print(i)\n",
    "it = iter([1, 2, 4])\n",
    "next(it)"
   ]
  },
  {
   "cell_type": "markdown",
   "execution_count": 76,
   "metadata": {},
   "outputs": [],
   "source": [
    "### 从迭代器创建序列"
   ]
  },
  {
   "cell_type": "code",
   "execution_count": 77,
   "metadata": {},
   "outputs": [
    {
     "data": {
      "text/plain": "[1, 2, 4]"
     },
     "execution_count": 77,
     "metadata": {},
     "output_type": "execute_result"
    }
   ],
   "source": [
    "it = iter([1, 2, 4])\n",
    "list(it)"
   ]
  },
  {
   "cell_type": "markdown",
   "execution_count": null,
   "metadata": {},
   "outputs": [],
   "source": [
    "## 生成器"
   ]
  },
  {
   "cell_type": "code",
   "execution_count": null,
   "metadata": {},
   "outputs": [],
   "source": []
  }
 ]
}