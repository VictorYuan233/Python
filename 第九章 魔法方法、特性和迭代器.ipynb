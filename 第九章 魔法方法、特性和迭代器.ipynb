{
 "nbformat": 4,
 "nbformat_minor": 2,
 "metadata": {
  "language_info": {
   "name": "python",
   "codemirror_mode": {
    "name": "ipython",
    "version": 3
   },
   "version": "3.7.3"
  },
  "orig_nbformat": 2,
  "file_extension": ".py",
  "mimetype": "text/x-python",
  "name": "python",
  "npconvert_exporter": "python",
  "pygments_lexer": "ipython3",
  "version": 3
 },
 "cells": [
  {
   "cell_type": "markdown",
   "execution_count": null,
   "metadata": {},
   "outputs": [],
   "source": [
    "# 第九章 魔法方法、特性和迭代器"
   ]
  },
  {
   "cell_type": "markdown",
   "execution_count": null,
   "metadata": {},
   "outputs": [],
   "source": [
    "## 构造函数\n",
    "* 对象将在创建后自动调用他们\n",
    "* 命名方法：\\__init__"
   ]
  },
  {
   "cell_type": "markdown",
   "execution_count": null,
   "metadata": {},
   "outputs": [],
   "source": [
    "## 析构函数\n",
    "* 在对象被销毁（垃圾收集）前调用\n",
    "* 命名方法\\__del__"
   ]
  },
  {
   "cell_type": "markdown",
   "execution_count": null,
   "metadata": {},
   "outputs": [],
   "source": [
    "## 继承超类的构造函数\n",
    "使用函数super（）"
   ]
  },
  {
   "cell_type": "code",
   "execution_count": 3,
   "metadata": {},
   "outputs": [],
   "source": [
    "class Bird:\n",
    "    def __init__(self):\n",
    "        self.hungry = True\n",
    "    def eat(self):\n",
    "        if self.hungry:\n",
    "            print('Aaaaaaaaaaaaah')\n",
    "        else:\n",
    "            print('No Thanks')\n",
    "\n",
    "class SongBird(Bird):\n",
    "    def __init__(self):\n",
    "        super().__init__()\n",
    "        self.sound = 'Squawk!'\n",
    "    def sing(self):\n",
    "        print(self.sound)\n"
   ]
  },
  {
   "cell_type": "code",
   "execution_count": 4,
   "metadata": {},
   "outputs": [
    {
     "name": "stdout",
     "output_type": "stream",
     "text": "Squawk!\n"
    }
   ],
   "source": [
    "sb = SongBird()\n",
    "sb.sing()"
   ]
  },
  {
   "cell_type": "code",
   "execution_count": 5,
   "metadata": {},
   "outputs": [
    {
     "name": "stdout",
     "output_type": "stream",
     "text": "Aaaaaaaaaaaaah\n"
    }
   ],
   "source": [
    "sb.eat()"
   ]
  },
  {
   "cell_type": "markdown",
   "execution_count": null,
   "metadata": {},
   "outputs": [],
   "source": [
    "## 元素访问"
   ]
  },
  {
   "cell_type": "markdown",
   "execution_count": null,
   "metadata": {},
   "outputs": [],
   "source": [
    "### 基本的序列和映射协议\n",
    "序列和映射基本上时元素（item）的集合，要实现他们的行为（协议），不可变对象需要实现两个方法，而可变对象需要实现4个\n",
    "* \\__len__(self):返回集合包含的项数\n",
    "* \\__getitem__(self, key) : 返回指定键相关联的值\n",
    "* \\__setitem__(self, key, value ):以键值对的方式储存值，仅当对象可变的时候才需要实现\n",
    "* \\__delitem__(self, key): 删除与key相关联的值，仅当对象可变的时候才需要实现"
   ]
  },
  {
   "cell_type": "markdown",
   "execution_count": null,
   "metadata": {},
   "outputs": [],
   "source": [
    "* 对于序列，如果键为负数，应该从末尾往前数， x\\[-n] = x\\[len(x) - n]\n",
    "* 如果键的类型不合适，可能引发TypeError异常\n",
    "* 索引不在正确的范围内的话应引发IndexError异常"
   ]
  },
  {
   "cell_type": "code",
   "execution_count": 24,
   "metadata": {},
   "outputs": [],
   "source": [
    "class ArithmeticSequence:\n",
    "    '创建一个无穷序列'\n",
    "    def __init__(self, start = 0, step = 1):\n",
    "        '初始化序列，开端，步长和改变的值'\n",
    "        self.start = start\n",
    "        self.step = step\n",
    "        self.changed = {}\n",
    "\n",
    "    def check_index(self, key):\n",
    "        '合法性检查，如果输入的值不是int类型且大于0的话就会报错'\n",
    "        if not isinstance(key, int): raise TypeError\n",
    "        if key < 0: raise IndexError\n",
    "\n",
    "    def __getitem__(self, key):\n",
    "        '返回对应的值'\n",
    "        self.check_index(key)   # 合法性检查\n",
    "        try:\n",
    "            return self.changed[key]  # 如果修改过的话就返回修改后的值，没有修改过的话则报错，引发KeyError异常\n",
    "        except KeyError:                # 没有修改过的话按照等差数列计算结果\n",
    "            return self.start + key * self.step\n",
    "\n",
    "    def __setitem__(self, key, value): \n",
    "        '修改对应的数值'\n",
    "        self.check_index(key)\n",
    "        self.changed[key] = value\n"
   ]
  },
  {
   "cell_type": "code",
   "execution_count": 25,
   "metadata": {},
   "outputs": [
    {
     "data": {
      "text/plain": "9"
     },
     "execution_count": 25,
     "metadata": {},
     "output_type": "execute_result"
    }
   ],
   "source": [
    "s = ArithmeticSequence(1, 2)\n",
    "s[4]"
   ]
  },
  {
   "cell_type": "code",
   "execution_count": 26,
   "metadata": {},
   "outputs": [],
   "source": [
    "s[4] = 2"
   ]
  },
  {
   "cell_type": "code",
   "execution_count": 27,
   "metadata": {},
   "outputs": [
    {
     "data": {
      "text/plain": "2"
     },
     "execution_count": 27,
     "metadata": {},
     "output_type": "execute_result"
    }
   ],
   "source": [
    "s[4]"
   ]
  },
  {
   "cell_type": "code",
   "execution_count": 28,
   "metadata": {},
   "outputs": [
    {
     "data": {
      "text/plain": "11"
     },
     "execution_count": 28,
     "metadata": {},
     "output_type": "execute_result"
    }
   ],
   "source": [
    "s[5]"
   ]
  },
  {
   "cell_type": "markdown",
   "execution_count": null,
   "metadata": {},
   "outputs": [],
   "source": [
    "### 从list，dict和str派生\n",
    "如果只想定制某种操作行为，就没必要重新实现所有方法，只需要从现有的类中继承"
   ]
  },
  {
   "cell_type": "code",
   "execution_count": 59,
   "metadata": {},
   "outputs": [],
   "source": [
    "class CounterList(list):\n",
    "    def __init__(self, *args):\n",
    "        super().__init__(*args)\n",
    "        self.counter = 0\n",
    "    def __getitem__(self, index):\n",
    "        self.counter += 1\n",
    "        return super().__getitem__(index)"
   ]
  },
  {
   "cell_type": "code",
   "execution_count": 60,
   "metadata": {},
   "outputs": [
    {
     "data": {
      "text/plain": "[0, 1, 2, 3, 4, 5, 6, 7, 8, 9]"
     },
     "execution_count": 60,
     "metadata": {},
     "output_type": "execute_result"
    }
   ],
   "source": [
    "cl = CounterList(range(10))\n",
    "cl"
   ]
  },
  {
   "cell_type": "code",
   "execution_count": 61,
   "metadata": {},
   "outputs": [
    {
     "data": {
      "text/plain": "0"
     },
     "execution_count": 61,
     "metadata": {},
     "output_type": "execute_result"
    }
   ],
   "source": [
    "cl.counter"
   ]
  },
  {
   "cell_type": "code",
   "execution_count": 62,
   "metadata": {},
   "outputs": [
    {
     "data": {
      "text/plain": "4"
     },
     "execution_count": 62,
     "metadata": {},
     "output_type": "execute_result"
    }
   ],
   "source": [
    "cl[4]"
   ]
  },
  {
   "cell_type": "code",
   "execution_count": 63,
   "metadata": {},
   "outputs": [
    {
     "data": {
      "text/plain": "1"
     },
     "execution_count": 63,
     "metadata": {},
     "output_type": "execute_result"
    }
   ],
   "source": [
    "cl.counter"
   ]
  },
  {
   "cell_type": "code",
   "execution_count": 64,
   "metadata": {},
   "outputs": [
    {
     "data": {
      "text/plain": "13"
     },
     "execution_count": 64,
     "metadata": {},
     "output_type": "execute_result"
    }
   ],
   "source": [
    "cl[4] + cl[9]"
   ]
  },
  {
   "cell_type": "code",
   "execution_count": 65,
   "metadata": {},
   "outputs": [
    {
     "data": {
      "text/plain": "3"
     },
     "execution_count": 65,
     "metadata": {},
     "output_type": "execute_result"
    }
   ],
   "source": [
    "cl.counter"
   ]
  },
  {
   "cell_type": "markdown",
   "execution_count": null,
   "metadata": {},
   "outputs": [],
   "source": [
    "## 特性"
   ]
  },
  {
   "cell_type": "markdown",
   "execution_count": null,
   "metadata": {},
   "outputs": [],
   "source": [
    "通过存取方法定义的属性称为**特性**   \n",
    "函数property将存取方法作为参数，获取方法在前设置方法在后"
   ]
  },
  {
   "cell_type": "code",
   "execution_count": 67,
   "metadata": {},
   "outputs": [],
   "source": [
    "class Rectangle:\n",
    "    def __init__(self):\n",
    "        self.width = 0\n",
    "        self.height = 0\n",
    "    def set_size(self, size):\n",
    "        self.width, self.height = size\n",
    "    def get_size(self):\n",
    "        return self.width, self.height\n",
    "    size = property(get_size, set_size)"
   ]
  },
  {
   "cell_type": "code",
   "execution_count": 68,
   "metadata": {},
   "outputs": [
    {
     "data": {
      "text/plain": "(5, 10)"
     },
     "execution_count": 68,
     "metadata": {},
     "output_type": "execute_result"
    }
   ],
   "source": [
    "r = Rectangle()\n",
    "r.width = 5\n",
    "r.height = 10\n",
    "r.size"
   ]
  },
  {
   "cell_type": "code",
   "execution_count": 69,
   "metadata": {},
   "outputs": [
    {
     "data": {
      "text/plain": "150"
     },
     "execution_count": 69,
     "metadata": {},
     "output_type": "execute_result"
    }
   ],
   "source": [
    "r.size = 150, 100\n",
    "r.width"
   ]
  },
  {
   "cell_type": "markdown",
   "execution_count": null,
   "metadata": {},
   "outputs": [],
   "source": [
    "## 迭代器\n",
    "方法\\__iter\\__返回一个迭代器，他是包含方法\\__next\\__的对象，调用这个方法时刻不提供任何参数，而调用方法\\__next__时，返回下一个值"
   ]
  },
  {
   "cell_type": "code",
   "execution_count": 70,
   "metadata": {},
   "outputs": [],
   "source": [
    "class fibs:\n",
    "    'fibnacci 数列'\n",
    "    def __init__(self):\n",
    "        self.a = 0\n",
    "        self.b = 1\n",
    "    \n",
    "    def __next__(self):\n",
    "        self.a, self.b = self.b, self.a + self.b\n",
    "        return self.a\n",
    "    \n",
    "    def __iter__(self):\n",
    "        return self"
   ]
  },
  {
   "cell_type": "code",
   "execution_count": 72,
   "metadata": {},
   "outputs": [
    {
     "name": "stdout",
     "output_type": "stream",
     "text": "1597\n"
    }
   ],
   "source": [
    "fib = fibs()\n",
    "for f in fib:\n",
    "    if f > 1000:\n",
    "        print(f)\n",
    "        break"
   ]
  },
  {
   "cell_type": "markdown",
   "execution_count": null,
   "metadata": {},
   "outputs": [],
   "source": [
    "通过可迭代对象调用内置函数iter可获得一个迭代器"
   ]
  },
  {
   "cell_type": "code",
   "execution_count": 25,
   "metadata": {},
   "outputs": [
    {
     "name": "stdout",
     "output_type": "stream",
     "text": "1\n2\n4\n"
    },
    {
     "data": {
      "text/plain": "1"
     },
     "execution_count": 25,
     "metadata": {},
     "output_type": "execute_result"
    }
   ],
   "source": [
    "it = iter([1, 2, 4])\n",
    "for i in it:\n",
    "    print(i)\n",
    "it = iter([1, 2, 4])\n",
    "next(it)"
   ]
  },
  {
   "cell_type": "markdown",
   "execution_count": 76,
   "metadata": {},
   "outputs": [],
   "source": [
    "### 从迭代器创建序列"
   ]
  },
  {
   "cell_type": "code",
   "execution_count": 77,
   "metadata": {},
   "outputs": [
    {
     "data": {
      "text/plain": "[1, 2, 4]"
     },
     "execution_count": 77,
     "metadata": {},
     "output_type": "execute_result"
    }
   ],
   "source": [
    "it = iter([1, 2, 4])\n",
    "list(it)"
   ]
  },
  {
   "cell_type": "markdown",
   "execution_count": null,
   "metadata": {},
   "outputs": [],
   "source": [
    "## 生成器"
   ]
  },
  {
   "cell_type": "markdown",
   "execution_count": null,
   "metadata": {},
   "outputs": [],
   "source": [
    "### 生成器是一种用普通函数语法生成的迭代器    \n",
    "包含yield语句的函数都被成为**生成器**，，生成器不是使用return语句返回一个值，而是可以生成多个值，每次一个。每次使用yield生成一个值后，函数都将被冻结，即在此终止执行，等待被重新唤醒。被重新唤醒后，函数将从停止的地方继续执行"
   ]
  },
  {
   "cell_type": "code",
   "execution_count": 14,
   "metadata": {},
   "outputs": [],
   "source": [
    "def flatten(nested):\n",
    "    for sublist in nested:\n",
    "        for element in sublist:\n",
    "            yield element"
   ]
  },
  {
   "cell_type": "code",
   "execution_count": 3,
   "metadata": {},
   "outputs": [
    {
     "name": "stdout",
     "output_type": "stream",
     "text": "The \"yield\" statement\n*********************\n\n   yield_stmt ::= yield_expression\n\nA \"yield\" statement is semantically equivalent to a yield expression.\nThe yield statement can be used to omit the parentheses that would\notherwise be required in the equivalent yield expression statement.\nFor example, the yield statements\n\n   yield <expr>\n   yield from <expr>\n\nare equivalent to the yield expression statements\n\n   (yield <expr>)\n   (yield from <expr>)\n\nYield expressions and statements are only used when defining a\n*generator* function, and are only used in the body of the generator\nfunction.  Using yield in a function definition is sufficient to cause\nthat definition to create a generator function instead of a normal\nfunction.\n\nFor full details of \"yield\" semantics, refer to the Yield expressions\nsection.\n\n"
    }
   ],
   "source": [
    "help('yield')"
   ]
  },
  {
   "cell_type": "code",
   "execution_count": 47,
   "metadata": {},
   "outputs": [
    {
     "name": "stdout",
     "output_type": "stream",
     "text": "1\n2\n3\n4\n5\n"
    }
   ],
   "source": [
    "nested = [[1,2], [3,4],[5]]\n",
    "for num in flatten(nested):\n",
    "    print(num)\n"
   ]
  },
  {
   "cell_type": "markdown",
   "execution_count": null,
   "metadata": {},
   "outputs": [],
   "source": [
    "## 生成器推导（也叫生成器表达式）\n",
    "* 工作原理与列表推导相同，但不是创建一个列表（即不立即执行循环），而是返回一个生成器，是你能够逐步执行计算\n",
    "* 与列表推导不同的是使用圆括号()而不是方括号[]"
   ]
  },
  {
   "cell_type": "code",
   "execution_count": 48,
   "metadata": {},
   "outputs": [],
   "source": [
    "g = ((i+2)**2 for i in range(2, 27))"
   ]
  },
  {
   "cell_type": "code",
   "execution_count": 49,
   "metadata": {},
   "outputs": [
    {
     "data": {
      "text/plain": "16"
     },
     "execution_count": 49,
     "metadata": {},
     "output_type": "execute_result"
    }
   ],
   "source": [
    "next(g)"
   ]
  },
  {
   "cell_type": "code",
   "execution_count": 50,
   "metadata": {},
   "outputs": [
    {
     "data": {
      "text/plain": "7700"
     },
     "execution_count": 50,
     "metadata": {},
     "output_type": "execute_result"
    }
   ],
   "source": [
    "sum((i+2)**2 for i in range(2, 27))"
   ]
  },
  {
   "cell_type": "code",
   "execution_count": 75,
   "metadata": {},
   "outputs": [],
   "source": [
    "# 有单元素检查的生成器\n",
    "def flatten(nested):\n",
    "    try:\n",
    "        for lists in nested:                    #拆分出list的子list（输入的肯定是一个list，如果是单元素会报错进入错误处理）\n",
    "            for element in flatten(lists):      #对list中的所有子list进行迭代，如果子list是单元素flatten（lists）会返回这个单元素,否则返回list的子list遍历后的结果\n",
    "                yield element\n",
    "    except TypeError:\n",
    "        yield nested\n"
   ]
  },
  {
   "cell_type": "code",
   "execution_count": 82,
   "metadata": {},
   "outputs": [
    {
     "name": "stdout",
     "output_type": "stream",
     "text": "1\n2\n3\n4\n5\n6\n"
    }
   ],
   "source": [
    "a = [[1,2],[3,4],5, 6]\n",
    "for num in flatten(a):\n",
    "    print(num)\n"
   ]
  },
  {
   "cell_type": "code",
   "execution_count": 83,
   "metadata": {},
   "outputs": [
    {
     "name": "stdout",
     "output_type": "stream",
     "text": "H\ne\nl\nl\no\n"
    }
   ],
   "source": [
    "a = 'Hello'  #字符串可迭代\n",
    "for b in a:\n",
    "    print(b)"
   ]
  },
  {
   "cell_type": "markdown",
   "execution_count": null,
   "metadata": {},
   "outputs": [],
   "source": [
    "### 通用生成器\n",
    "生成器包含yield的函数，调用时不会执行函数体内的代码，而是返回一个迭代器，每次请求值时，都将执行生成器代码，知道遇到yield或者return。     \n",
    "yield意味着生成一个值，return意味着生成器立即停止执行"
   ]
  },
  {
   "cell_type": "markdown",
   "execution_count": null,
   "metadata": {},
   "outputs": [],
   "source": [
    "### 生成器方法\n",
    "外部世界可以访问生成器的方法森达，类似于next，但接受一个参数（要发送的消息，可以是任何对象）     \n",
    "在挂起的生成器内部，yield可能用作表达式而不是语句。换而言之，当生成器重新运行时，yield返回一个值--通过send从外部世界发送的值。如果使用的时next，yield将返回None    \n",
    "send会使得生成器继续运行,返回生成器的下一项"
   ]
  },
  {
   "cell_type": "code",
   "execution_count": 99,
   "metadata": {},
   "outputs": [],
   "source": [
    "def repeater(value):\n",
    "    while True:\n",
    "        new = (yield value)\n",
    "        if new is not None: value = new"
   ]
  },
  {
   "cell_type": "code",
   "execution_count": 100,
   "metadata": {},
   "outputs": [
    {
     "data": {
      "text/plain": "42"
     },
     "execution_count": 100,
     "metadata": {},
     "output_type": "execute_result"
    }
   ],
   "source": [
    "r = repeater(42)\n",
    "next(r)"
   ]
  },
  {
   "cell_type": "code",
   "execution_count": 101,
   "metadata": {},
   "outputs": [
    {
     "data": {
      "text/plain": "'Hello world'"
     },
     "execution_count": 101,
     "metadata": {},
     "output_type": "execute_result"
    }
   ],
   "source": [
    "r.send(\"Hello world\")"
   ]
  },
  {
   "cell_type": "code",
   "execution_count": 102,
   "metadata": {},
   "outputs": [
    {
     "data": {
      "text/plain": "'Hello world'"
     },
     "execution_count": 102,
     "metadata": {},
     "output_type": "execute_result"
    }
   ],
   "source": [
    "next(r)"
   ]
  },
  {
   "cell_type": "markdown",
   "execution_count": null,
   "metadata": {},
   "outputs": [],
   "source": [
    "### 方法throw用于在生成器（yield表达式）处引发异常，调用时可以提供一个异常类型，一个可选值和一个traceback对象"
   ]
  },
  {
   "cell_type": "markdown",
   "execution_count": null,
   "metadata": {},
   "outputs": [],
   "source": [
    "### 方法close用于停止生成器，调用时无需提供任何参数"
   ]
  },
  {
   "cell_type": "markdown",
   "execution_count": null,
   "metadata": {},
   "outputs": [],
   "source": [
    "## 八皇后问题\n",
    "要将八个皇后放在一个 8 * 8 的棋盘上，条件是任意两个皇后不可以位于同一行、同一列或者同一斜线上"
   ]
  },
  {
   "cell_type": "code",
   "execution_count": 163,
   "metadata": {},
   "outputs": [],
   "source": [
    "def conflict(state, NextX):\n",
    "    '检查是否新加入的NextX与之前已经放好的棋子有冲突，新加入的棋子纵坐标为len(state)，横坐标为NextX，返回值True(有冲突)或者False（无冲突）'\n",
    "    NextY = len(state)\n",
    "    for i in range(NextY):  \n",
    "        if abs(NextX - state[i]) in (0, NextY - i):  \n",
    "            #如果横坐标差为0（位于同一列上）或者等于横坐标差（位于对角线上）说明有冲突，返回True，否则返回False\n",
    "            return True\n",
    "    return False\n",
    "\n",
    "def queen(num, state = []):         \n",
    "    'num为正方形棋盘的长度，state列表表示每个棋子摆放的位置，state[x] = y，意思是这个棋子横坐标x，纵坐标为y'\n",
    "    if len(state) == num -1:\n",
    "        # 如果开始计算列表的最后一行的话则应该在计算后返回state状态\n",
    "        for nextx in range(num): #循环遍历\n",
    "            if not conflict(state, nextx):  #冲突检查\n",
    "                state.append(nextx) #摆放棋子\n",
    "                yield state\n",
    "                # 回溯，将之前已经遍历过的改变复原\n",
    "                state.pop()\n",
    "    else:\n",
    "        # 如果列表没有满，则返回迭代后的结果\n",
    "        for nextx in range(num):                    #循环遍历\n",
    "            if not conflict(state, nextx):          #冲突检查\n",
    "                state.append(nextx)                 #摆放棋子\n",
    "                for results in queen(num, state):   #返回一个生成器，对返回的生成器再次进行递归遍历\n",
    "                    yield results\n",
    "                state.pop()                         #回溯，将之前已经遍历过的改变复原\n",
    "    "
   ]
  },
  {
   "cell_type": "code",
   "execution_count": 164,
   "metadata": {},
   "outputs": [
    {
     "name": "stdout",
     "output_type": "stream",
     "text": "[0, 4, 7, 5, 2, 6, 1, 3]\n[0, 5, 7, 2, 6, 3, 1, 4]\n[0, 6, 3, 5, 7, 1, 4, 2]\n[0, 6, 4, 7, 1, 3, 5, 2]\n[1, 3, 5, 7, 2, 0, 6, 4]\n[1, 4, 6, 0, 2, 7, 5, 3]\n[1, 4, 6, 3, 0, 7, 5, 2]\n[1, 5, 0, 6, 3, 7, 2, 4]\n[1, 5, 7, 2, 0, 3, 6, 4]\n[1, 6, 2, 5, 7, 4, 0, 3]\n[1, 6, 4, 7, 0, 3, 5, 2]\n[1, 7, 5, 0, 2, 4, 6, 3]\n[2, 0, 6, 4, 7, 1, 3, 5]\n[2, 4, 1, 7, 0, 6, 3, 5]\n[2, 4, 1, 7, 5, 3, 6, 0]\n[2, 4, 6, 0, 3, 1, 7, 5]\n[2, 4, 7, 3, 0, 6, 1, 5]\n[2, 5, 1, 4, 7, 0, 6, 3]\n[2, 5, 1, 6, 0, 3, 7, 4]\n[2, 5, 1, 6, 4, 0, 7, 3]\n[2, 5, 3, 0, 7, 4, 6, 1]\n[2, 5, 3, 1, 7, 4, 6, 0]\n[2, 5, 7, 0, 3, 6, 4, 1]\n[2, 5, 7, 0, 4, 6, 1, 3]\n[2, 5, 7, 1, 3, 0, 6, 4]\n[2, 6, 1, 7, 4, 0, 3, 5]\n[2, 6, 1, 7, 5, 3, 0, 4]\n[2, 7, 3, 6, 0, 5, 1, 4]\n[3, 0, 4, 7, 1, 6, 2, 5]\n[3, 0, 4, 7, 5, 2, 6, 1]\n[3, 1, 4, 7, 5, 0, 2, 6]\n[3, 1, 6, 2, 5, 7, 0, 4]\n[3, 1, 6, 2, 5, 7, 4, 0]\n[3, 1, 6, 4, 0, 7, 5, 2]\n[3, 1, 7, 4, 6, 0, 2, 5]\n[3, 1, 7, 5, 0, 2, 4, 6]\n[3, 5, 0, 4, 1, 7, 2, 6]\n[3, 5, 7, 1, 6, 0, 2, 4]\n[3, 5, 7, 2, 0, 6, 4, 1]\n[3, 6, 0, 7, 4, 1, 5, 2]\n[3, 6, 2, 7, 1, 4, 0, 5]\n[3, 6, 4, 1, 5, 0, 2, 7]\n[3, 6, 4, 2, 0, 5, 7, 1]\n[3, 7, 0, 2, 5, 1, 6, 4]\n[3, 7, 0, 4, 6, 1, 5, 2]\n[3, 7, 4, 2, 0, 6, 1, 5]\n[4, 0, 3, 5, 7, 1, 6, 2]\n[4, 0, 7, 3, 1, 6, 2, 5]\n[4, 0, 7, 5, 2, 6, 1, 3]\n[4, 1, 3, 5, 7, 2, 0, 6]\n[4, 1, 3, 6, 2, 7, 5, 0]\n[4, 1, 5, 0, 6, 3, 7, 2]\n[4, 1, 7, 0, 3, 6, 2, 5]\n[4, 2, 0, 5, 7, 1, 3, 6]\n[4, 2, 0, 6, 1, 7, 5, 3]\n[4, 2, 7, 3, 6, 0, 5, 1]\n[4, 6, 0, 2, 7, 5, 3, 1]\n[4, 6, 0, 3, 1, 7, 5, 2]\n[4, 6, 1, 3, 7, 0, 2, 5]\n[4, 6, 1, 5, 2, 0, 3, 7]\n[4, 6, 1, 5, 2, 0, 7, 3]\n[4, 6, 3, 0, 2, 7, 5, 1]\n[4, 7, 3, 0, 2, 5, 1, 6]\n[4, 7, 3, 0, 6, 1, 5, 2]\n[5, 0, 4, 1, 7, 2, 6, 3]\n[5, 1, 6, 0, 2, 4, 7, 3]\n[5, 1, 6, 0, 3, 7, 4, 2]\n[5, 2, 0, 6, 4, 7, 1, 3]\n[5, 2, 0, 7, 3, 1, 6, 4]\n[5, 2, 0, 7, 4, 1, 3, 6]\n[5, 2, 4, 6, 0, 3, 1, 7]\n[5, 2, 4, 7, 0, 3, 1, 6]\n[5, 2, 6, 1, 3, 7, 0, 4]\n[5, 2, 6, 1, 7, 4, 0, 3]\n[5, 2, 6, 3, 0, 7, 1, 4]\n[5, 3, 0, 4, 7, 1, 6, 2]\n[5, 3, 1, 7, 4, 6, 0, 2]\n[5, 3, 6, 0, 2, 4, 1, 7]\n[5, 3, 6, 0, 7, 1, 4, 2]\n[5, 7, 1, 3, 0, 6, 4, 2]\n[6, 0, 2, 7, 5, 3, 1, 4]\n[6, 1, 3, 0, 7, 4, 2, 5]\n[6, 1, 5, 2, 0, 3, 7, 4]\n[6, 2, 0, 5, 7, 4, 1, 3]\n[6, 2, 7, 1, 4, 0, 5, 3]\n[6, 3, 1, 4, 7, 0, 2, 5]\n[6, 3, 1, 7, 5, 0, 2, 4]\n[6, 4, 2, 0, 5, 7, 1, 3]\n[7, 1, 3, 0, 6, 4, 2, 5]\n[7, 1, 4, 2, 0, 6, 3, 5]\n[7, 2, 0, 5, 1, 4, 6, 3]\n[7, 3, 0, 2, 5, 1, 6, 4]\n92\n"
    }
   ],
   "source": [
    "k =0\n",
    "for i in queen(8):\n",
    "    k += 1\n",
    "    print(i)\n",
    "print(k)"
   ]
  },
  {
   "cell_type": "markdown",
   "execution_count": null,
   "metadata": {},
   "outputs": [],
   "source": [
    "## 函数\n",
    "iter(obj)                            从可迭代对象创建一个迭代器     \n",
    "next(it)                            让迭代器前进并返回下一个元素     \n",
    "property(fget, fset, fdel, doc)     返回一个特性，所有的元素都是可选的     \n",
    "super(class,obj)                    返回一个超类的关联实例"
   ]
  },
  {
   "cell_type": "markdown",
   "execution_count": null,
   "metadata": {},
   "outputs": [],
   "source": [
    "# 本章完"
   ]
  }
 ]
}