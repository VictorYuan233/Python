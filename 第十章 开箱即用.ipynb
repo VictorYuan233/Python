{
 "nbformat": 4,
 "nbformat_minor": 2,
 "metadata": {
  "language_info": {
   "name": "python",
   "codemirror_mode": {
    "name": "ipython",
    "version": 3
   },
   "version": "3.7.3"
  },
  "orig_nbformat": 2,
  "file_extension": ".py",
  "mimetype": "text/x-python",
  "name": "python",
  "npconvert_exporter": "python",
  "pygments_lexer": "ipython3",
  "version": 3
 },
 "cells": [
  {
   "cell_type": "markdown",
   "execution_count": 1,
   "metadata": {},
   "outputs": [],
   "source": [
    "# 第十章 开箱即用"
   ]
  },
  {
   "cell_type": "markdown",
   "execution_count": null,
   "metadata": {},
   "outputs": [],
   "source": [
    "## 模块就是程序\n",
    "任何Python程序都可以作为模块导入，假设要导入一个hello.py文件，只需要import hello即可"
   ]
  },
  {
   "cell_type": "code",
   "execution_count": 1,
   "metadata": {},
   "outputs": [
    {
     "name": "stdout",
     "output_type": "stream",
     "text": "hello\n"
    }
   ],
   "source": [
    "import hello1"
   ]
  },
  {
   "cell_type": "markdown",
   "execution_count": null,
   "metadata": {},
   "outputs": [],
   "source": [
    "模块并不是用来执行操作的，而是用来定义变量、函数、类等。鉴于定义只做一次，导入多次和导入一次效果相同，所以一般只加载一次      \n",
    "如果重新加载模块，可以用importlib模块的函数reload"
   ]
  },
  {
   "cell_type": "code",
   "execution_count": 2,
   "metadata": {},
   "outputs": [],
   "source": [
    "import hello1"
   ]
  },
  {
   "cell_type": "code",
   "execution_count": 4,
   "metadata": {},
   "outputs": [
    {
     "name": "stdout",
     "output_type": "stream",
     "text": "hello\n"
    },
    {
     "data": {
      "text/plain": "<module 'hello1' from 'd:\\\\GitHub\\\\Python\\\\hello1.py'>"
     },
     "execution_count": 4,
     "metadata": {},
     "output_type": "execute_result"
    }
   ],
   "source": [
    "import importlib\n",
    "importlib.reload(hello1)"
   ]
  },
  {
   "cell_type": "markdown",
   "execution_count": 5,
   "metadata": {},
   "outputs": [],
   "source": [
    "## 在模块中定义函数\n",
    "## 在模块中添加测试代码\n",
    "在主程序中，变量\\__name\\__的值是'\\__main\\__', 而在导入模块中，这个变量被设置为模块名称"
   ]
  },
  {
   "cell_type": "code",
   "execution_count": 6,
   "metadata": {},
   "outputs": [
    {
     "name": "stdout",
     "output_type": "stream",
     "text": "hello World\n"
    }
   ],
   "source": [
    "def hello():\n",
    "    print('hello World')\n",
    "\n",
    "def test():\n",
    "    hello()\n",
    "\n",
    "if __name__ == '__main__': test()"
   ]
  },
  {
   "cell_type": "code",
   "execution_count": 7,
   "metadata": {},
   "outputs": [
    {
     "data": {
      "text/plain": "<module 'hello1' from 'd:\\\\GitHub\\\\Python\\\\hello1.py'>"
     },
     "execution_count": 7,
     "metadata": {},
     "output_type": "execute_result"
    }
   ],
   "source": [
    "importlib.reload(hello1)"
   ]
  },
  {
   "cell_type": "code",
   "execution_count": 9,
   "metadata": {},
   "outputs": [
    {
     "data": {
      "text/plain": "'hello1'"
     },
     "execution_count": 9,
     "metadata": {},
     "output_type": "execute_result"
    }
   ],
   "source": [
    "hello1.__name__"
   ]
  },
  {
   "cell_type": "markdown",
   "execution_count": 10,
   "metadata": {},
   "outputs": [
    {
     "ename": "SyntaxError",
     "evalue": "invalid syntax (<ipython-input-10-3d117899f704>, line 2)",
     "output_type": "error",
     "traceback": [
      "\u001b[1;36m  File \u001b[1;32m\"<ipython-input-10-3d117899f704>\"\u001b[1;36m, line \u001b[1;32m2\u001b[0m\n\u001b[1;33m    1. 直接修改sys.path\u001b[0m\n\u001b[1;37m             ^\u001b[0m\n\u001b[1;31mSyntaxError\u001b[0m\u001b[1;31m:\u001b[0m invalid syntax\n"
     ]
    }
   ],
   "source": [
    "## 如何告诉解释器去哪里找被导入的模块\n",
    "1. 直接修改sys.path\n",
    "2. 标准做法是将模块所在的目录包含在环境变量PYTHONPYTH中"
   ]
  },
  {
   "cell_type": "code",
   "execution_count": 12,
   "metadata": {},
   "outputs": [
    {
     "name": "stdout",
     "output_type": "stream",
     "text": "['C:\\\\Users\\\\victo\\\\AppData\\\\Local\\\\Temp\\\\a79a7b5d-73e2-4758-adc2-03e96823eb93',\n 'C:\\\\ProgramData\\\\Anaconda3\\\\python37.zip',\n 'C:\\\\ProgramData\\\\Anaconda3\\\\DLLs',\n 'C:\\\\ProgramData\\\\Anaconda3\\\\lib',\n 'C:\\\\ProgramData\\\\Anaconda3',\n '',\n 'C:\\\\ProgramData\\\\Anaconda3\\\\lib\\\\site-packages',\n 'C:\\\\ProgramData\\\\Anaconda3\\\\lib\\\\site-packages\\\\win32',\n 'C:\\\\ProgramData\\\\Anaconda3\\\\lib\\\\site-packages\\\\win32\\\\lib',\n 'C:\\\\ProgramData\\\\Anaconda3\\\\lib\\\\site-packages\\\\Pythonwin',\n 'C:\\\\ProgramData\\\\Anaconda3\\\\lib\\\\site-packages\\\\IPython\\\\extensions',\n 'C:\\\\Users\\\\victo\\\\.ipython']\n"
    }
   ],
   "source": [
    "import sys, pprint\n",
    "pprint.pprint(sys.path)"
   ]
  },
  {
   "cell_type": "markdown",
   "execution_count": null,
   "metadata": {},
   "outputs": [],
   "source": [
    "## 包\n",
    "为组织模块，可将其编组为包。包其实是另一种模块，但有趣的是它们可包含其他模块    \n",
    "模块存储在扩展名为.py的文件中，而包则是一个目录    \n",
    "要被Python视为包，目录必须包含文件__init__.py的"
   ]
  },
  {
   "cell_type": "code",
   "execution_count": 13,
   "metadata": {},
   "outputs": [
    {
     "ename": "ModuleNotFoundError",
     "evalue": "No module named 'drawing'",
     "output_type": "error",
     "traceback": [
      "\u001b[1;31m---------------------------------------------------------------------------\u001b[0m",
      "\u001b[1;31mModuleNotFoundError\u001b[0m                       Traceback (most recent call last)",
      "\u001b[1;32m<ipython-input-13-11214ccf6627>\u001b[0m in \u001b[0;36m<module>\u001b[1;34m\u001b[0m\n\u001b[1;32m----> 1\u001b[1;33m \u001b[1;32mimport\u001b[0m \u001b[0mdrawing\u001b[0m                  \u001b[1;31m#导入drawing包，但不能使用shapes和colors中的内容\u001b[0m\u001b[1;33m\u001b[0m\u001b[1;33m\u001b[0m\u001b[0m\n\u001b[0m\u001b[0;32m      2\u001b[0m \u001b[1;32mimport\u001b[0m \u001b[0mdrawing\u001b[0m\u001b[1;33m.\u001b[0m\u001b[0mcolors\u001b[0m           \u001b[1;31m#导入drawing包中的模块colors，可以使用全限定名drawing.colors来使用\u001b[0m\u001b[1;33m\u001b[0m\u001b[1;33m\u001b[0m\u001b[0m\n\u001b[0;32m      3\u001b[0m \u001b[1;32mfrom\u001b[0m \u001b[0mdrawing\u001b[0m \u001b[1;32mimport\u001b[0m \u001b[0mshapes\u001b[0m      \u001b[1;31m#导入模块shapes可以使用简化名shapes来访问\u001b[0m\u001b[1;33m\u001b[0m\u001b[1;33m\u001b[0m\u001b[0m\n",
      "\u001b[1;31mModuleNotFoundError\u001b[0m: No module named 'drawing'"
     ]
    }
   ],
   "source": [
    "import drawing                  #导入drawing包，但不能使用shapes和colors中的内容\n",
    "import drawing.colors           #导入drawing包中的模块colors，可以使用全限定名drawing.colors来使用\n",
    "from drawing import shapes      #导入模块shapes可以使用简化名shapes来访问"
   ]
  },
  {
   "cell_type": "markdown",
   "execution_count": null,
   "metadata": {},
   "outputs": [],
   "source": [
    "## 探索模块\n",
    "### 模块包含什么"
   ]
  },
  {
   "cell_type": "markdown",
   "execution_count": null,
   "metadata": {},
   "outputs": [],
   "source": [
    "### 要查明模块包含哪些东西，可以使用函数dir，它列出对象的所有属性（函数，类，变量等）"
   ]
  },
  {
   "cell_type": "code",
   "execution_count": 15,
   "metadata": {},
   "outputs": [
    {
     "data": {
      "text/plain": "['__doc__',\n '__loader__',\n '__name__',\n '__package__',\n '__spec__',\n 'acos',\n 'acosh',\n 'asin',\n 'asinh',\n 'atan',\n 'atan2',\n 'atanh',\n 'ceil',\n 'copysign',\n 'cos',\n 'cosh',\n 'degrees',\n 'e',\n 'erf',\n 'erfc',\n 'exp',\n 'expm1',\n 'fabs',\n 'factorial',\n 'floor',\n 'fmod',\n 'frexp',\n 'fsum',\n 'gamma',\n 'gcd',\n 'hypot',\n 'inf',\n 'isclose',\n 'isfinite',\n 'isinf',\n 'isnan',\n 'ldexp',\n 'lgamma',\n 'log',\n 'log10',\n 'log1p',\n 'log2',\n 'modf',\n 'nan',\n 'pi',\n 'pow',\n 'radians',\n 'remainder',\n 'sin',\n 'sinh',\n 'sqrt',\n 'tan',\n 'tanh',\n 'tau',\n 'trunc']"
     },
     "execution_count": 15,
     "metadata": {},
     "output_type": "execute_result"
    }
   ],
   "source": [
    "import math\n",
    "dir(math)"
   ]
  },
  {
   "cell_type": "code",
   "execution_count": 17,
   "metadata": {},
   "outputs": [
    {
     "data": {
      "text/plain": "2.23606797749979"
     },
     "execution_count": 17,
     "metadata": {},
     "output_type": "execute_result"
    }
   ],
   "source": [
    "math.sqrt(5)"
   ]
  },
  {
   "cell_type": "code",
   "execution_count": 18,
   "metadata": {},
   "outputs": [
    {
     "data": {
      "text/plain": "['Error',\n '__all__',\n '__builtins__',\n '__cached__',\n '__doc__',\n '__file__',\n '__loader__',\n '__name__',\n '__package__',\n '__spec__',\n '_copy_dispatch',\n '_copy_immutable',\n '_deepcopy_atomic',\n '_deepcopy_dict',\n '_deepcopy_dispatch',\n '_deepcopy_list',\n '_deepcopy_method',\n '_deepcopy_tuple',\n '_keep_alive',\n '_reconstruct',\n 'copy',\n 'deepcopy',\n 'dispatch_table',\n 'error']"
     },
     "execution_count": 18,
     "metadata": {},
     "output_type": "execute_result"
    }
   ],
   "source": [
    "import copy\n",
    "dir(copy)"
   ]
  },
  {
   "cell_type": "code",
   "execution_count": 19,
   "metadata": {},
   "outputs": [
    {
     "data": {
      "text/plain": "['Error', 'copy', 'deepcopy']"
     },
     "execution_count": 19,
     "metadata": {},
     "output_type": "execute_result"
    }
   ],
   "source": [
    "copy.__all__"
   ]
  },
  {
   "cell_type": "markdown",
   "execution_count": null,
   "metadata": {},
   "outputs": [],
   "source": [
    "## 变量\\__all__\n",
    "旨在定义公有接口，告诉解释器哪些变量、函数和类需要被导入     \n",
    "如果不定义的话在import *方式导入时，导入所有不以下划线打头的全局名称"
   ]
  },
  {
   "cell_type": "markdown",
   "execution_count": null,
   "metadata": {},
   "outputs": [],
   "source": [
    "### 使用help获取帮助\n",
    "打印文档字符串\\__doc__"
   ]
  },
  {
   "cell_type": "code",
   "execution_count": 25,
   "metadata": {},
   "outputs": [
    {
     "name": "stdout",
     "output_type": "stream",
     "text": "Help on module copy:\n\nNAME\n    copy - Generic (shallow and deep) copying operations.\n\nDESCRIPTION\n    Interface summary:\n    \n            import copy\n    \n            x = copy.copy(y)        # make a shallow copy of y\n            x = copy.deepcopy(y)    # make a deep copy of y\n    \n    For module specific errors, copy.Error is raised.\n    \n    The difference between shallow and deep copying is only relevant for\n    compound objects (objects that contain other objects, like lists or\n    class instances).\n    \n    - A shallow copy constructs a new compound object and then (to the\n      extent possible) inserts *the same objects* into it that the\n      original contains.\n    \n    - A deep copy constructs a new compound object and then, recursively,\n      inserts *copies* into it of the objects found in the original.\n    \n    Two problems often exist with deep copy operations that don't exist\n    with shallow copy operations:\n    \n     a) recursive objects (compound objects that, directly or indirectly,\n        contain a reference to themselves) may cause a recursive loop\n    \n     b) because deep copy copies *everything* it may copy too much, e.g.\n        administrative data structures that should be shared even between\n        copies\n    \n    Python's deep copy operation avoids these problems by:\n    \n     a) keeping a table of objects already copied during the current\n        copying pass\n    \n     b) letting user-defined classes override the copying operation or the\n        set of components copied\n    \n    This version does not copy types like module, class, function, method,\n    nor stack trace, stack frame, nor file, socket, window, nor array, nor\n    any similar types.\n    \n    Classes can use the same interfaces to control copying that they use\n    to control pickling: they can define methods called __getinitargs__(),\n    __getstate__() and __setstate__().  See the documentation for module\n    \"pickle\" for information on these methods.\n\nCLASSES\n    builtins.Exception(builtins.BaseException)\n        Error\n    \n    class Error(builtins.Exception)\n     |  Common base class for all non-exit exceptions.\n     |  \n     |  Method resolution order:\n     |      Error\n     |      builtins.Exception\n     |      builtins.BaseException\n     |      builtins.object\n     |  \n     |  Data descriptors defined here:\n     |  \n     |  __weakref__\n     |      list of weak references to the object (if defined)\n     |  \n     |  ----------------------------------------------------------------------\n     |  Methods inherited from builtins.Exception:\n     |  \n     |  __init__(self, /, *args, **kwargs)\n     |      Initialize self.  See help(type(self)) for accurate signature.\n     |  \n     |  ----------------------------------------------------------------------\n     |  Static methods inherited from builtins.Exception:\n     |  \n     |  __new__(*args, **kwargs) from builtins.type\n     |      Create and return a new object.  See help(type) for accurate signature.\n     |  \n     |  ----------------------------------------------------------------------\n     |  Methods inherited from builtins.BaseException:\n     |  \n     |  __delattr__(self, name, /)\n     |      Implement delattr(self, name).\n     |  \n     |  __getattribute__(self, name, /)\n     |      Return getattr(self, name).\n     |  \n     |  __reduce__(...)\n     |      Helper for pickle.\n     |  \n     |  __repr__(self, /)\n     |      Return repr(self).\n     |  \n     |  __setattr__(self, name, value, /)\n     |      Implement setattr(self, name, value).\n     |  \n     |  __setstate__(...)\n     |  \n     |  __str__(self, /)\n     |      Return str(self).\n     |  \n     |  with_traceback(...)\n     |      Exception.with_traceback(tb) --\n     |      set self.__traceback__ to tb and return self.\n     |  \n     |  ----------------------------------------------------------------------\n     |  Data descriptors inherited from builtins.BaseException:\n     |  \n     |  __cause__\n     |      exception cause\n     |  \n     |  __context__\n     |      exception context\n     |  \n     |  __dict__\n     |  \n     |  __suppress_context__\n     |  \n     |  __traceback__\n     |  \n     |  args\n\nFUNCTIONS\n    copy(x)\n        Shallow copy operation on arbitrary Python objects.\n        \n        See the module's __doc__ string for more info.\n    \n    deepcopy(x, memo=None, _nil=[])\n        Deep copy operation on arbitrary Python objects.\n        \n        See the module's __doc__ string for more info.\n\nDATA\n    __all__ = ['Error', 'copy', 'deepcopy']\n\nFILE\n    c:\\programdata\\anaconda3\\lib\\copy.py\n\n\n"
    }
   ],
   "source": [
    "help(copy)"
   ]
  },
  {
   "cell_type": "markdown",
   "execution_count": 26,
   "metadata": {},
   "outputs": [
    {
     "ename": "SyntaxError",
     "evalue": "unexpected character after line continuation character (<ipython-input-26-a9139be2b11b>, line 2)",
     "output_type": "error",
     "traceback": [
      "\u001b[1;36m  File \u001b[1;32m\"<ipython-input-26-a9139be2b11b>\"\u001b[1;36m, line \u001b[1;32m2\u001b[0m\n\u001b[1;33m    \\__file__可以指出模块文件存放的位置\u001b[0m\n\u001b[1;37m                          ^\u001b[0m\n\u001b[1;31mSyntaxError\u001b[0m\u001b[1;31m:\u001b[0m unexpected character after line continuation character\n"
     ]
    }
   ],
   "source": [
    "### 源代码\n",
    "\\__file__可以指出模块文件存放的位置"
   ]
  },
  {
   "cell_type": "code",
   "execution_count": 27,
   "metadata": {},
   "outputs": [
    {
     "name": "stdout",
     "output_type": "stream",
     "text": "C:\\ProgramData\\Anaconda3\\lib\\copy.py\n"
    }
   ],
   "source": [
    "print(copy.__file__)"
   ]
  },
  {
   "cell_type": "markdown",
   "execution_count": 28,
   "metadata": {},
   "outputs": [],
   "source": [
    "## 标准库：一些受欢迎的模块"
   ]
  },
  {
   "cell_type": "markdown",
   "execution_count": 29,
   "metadata": {},
   "outputs": [
    {
     "ename": "NameError",
     "evalue": "name 'sys能够访问与Python解释器相关的变量和函数' is not defined",
     "output_type": "error",
     "traceback": [
      "\u001b[1;31m---------------------------------------------------------------------------\u001b[0m",
      "\u001b[1;31mNameError\u001b[0m                                 Traceback (most recent call last)",
      "\u001b[1;32m<ipython-input-29-b4a6aef20e90>\u001b[0m in \u001b[0;36m<module>\u001b[1;34m\u001b[0m\n\u001b[1;32m----> 1\u001b[1;33m \u001b[0msys能够访问与Python解释器相关的变量和函数\u001b[0m\u001b[1;33m\u001b[0m\u001b[1;33m\u001b[0m\u001b[0m\n\u001b[0m",
      "\u001b[1;31mNameError\u001b[0m: name 'sys能够访问与Python解释器相关的变量和函数' is not defined"
     ]
    }
   ],
   "source": [
    "sys能够访问与Python解释器相关的变量和函数"
   ]
  },
  {
   "cell_type": "markdown",
   "execution_count": null,
   "metadata": {},
   "outputs": [],
   "source": [
    "os能够让你访问多个操作系统服务"
   ]
  },
  {
   "cell_type": "code",
   "execution_count": null,
   "metadata": {},
   "outputs": [],
   "source": []
  },
  {
   "cell_type": "code",
   "execution_count": null,
   "metadata": {},
   "outputs": [],
   "source": []
  }
 ]
}